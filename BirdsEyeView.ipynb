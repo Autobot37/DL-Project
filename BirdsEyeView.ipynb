{
  "nbformat": 4,
  "nbformat_minor": 0,
  "metadata": {
    "colab": {
      "provenance": []
    },
    "kernelspec": {
      "name": "python3",
      "display_name": "Python 3"
    },
    "language_info": {
      "name": "python"
    }
  },
  "cells": [
    {
      "cell_type": "code",
      "execution_count": null,
      "metadata": {
        "id": "rLFmxeFm4nZ2"
      },
      "outputs": [],
      "source": [
        "!git clone https://github.com/gdscnitp/DL-Project"
      ]
    },
    {
      "cell_type": "code",
      "source": [
        "!gdown https://drive.google.com/uc?id=1EaBmCzl4xnuebfoQnxU1xQgNmBy7mWi2"
      ],
      "metadata": {
        "id": "DgpSVcMg4qbA"
      },
      "execution_count": null,
      "outputs": []
    },
    {
      "cell_type": "code",
      "source": [
        "!unzip /content/weights.zip"
      ],
      "metadata": {
        "id": "3pU5651N5B8d"
      },
      "execution_count": null,
      "outputs": []
    },
    {
      "cell_type": "code",
      "source": [
        "%cd /content"
      ],
      "metadata": {
        "colab": {
          "base_uri": "https://localhost:8080/"
        },
        "id": "EJnjY6Kq5964",
        "outputId": "30a65e72-c432-4a75-f07c-1cc96f140fed"
      },
      "execution_count": null,
      "outputs": [
        {
          "output_type": "stream",
          "name": "stdout",
          "text": [
            "/content\n"
          ]
        }
      ]
    },
    {
      "cell_type": "code",
      "source": [
        "!mv weights /content/DL-Project/BirdsEyeView_"
      ],
      "metadata": {
        "id": "VuMHrRMK6j4n"
      },
      "execution_count": null,
      "outputs": []
    },
    {
      "cell_type": "code",
      "source": [
        "%cd /content/DL-Project/BirdsEyeView_"
      ],
      "metadata": {
        "colab": {
          "base_uri": "https://localhost:8080/"
        },
        "id": "RNB3hRAe6pp9",
        "outputId": "cf98dec8-86fc-4e0c-cdf0-09ea0ec2d424"
      },
      "execution_count": null,
      "outputs": [
        {
          "output_type": "stream",
          "name": "stdout",
          "text": [
            "/content/DL-Project/BirdsEyeView_\n"
          ]
        }
      ]
    },
    {
      "cell_type": "code",
      "source": [
        "%cd /content"
      ],
      "metadata": {
        "colab": {
          "base_uri": "https://localhost:8080/"
        },
        "id": "kgv86i9j7A8i",
        "outputId": "633e196b-2635-4742-c000-1934e9b44464"
      },
      "execution_count": null,
      "outputs": [
        {
          "output_type": "stream",
          "name": "stdout",
          "text": [
            "/content\n"
          ]
        }
      ]
    },
    {
      "cell_type": "code",
      "source": [
        "!pip install -r /content/DL-Project/BirdsEyeView_/requirements.txt"
      ],
      "metadata": {
        "id": "X5CyViuK8AYo"
      },
      "execution_count": null,
      "outputs": []
    },
    {
      "cell_type": "code",
      "source": [
        "%cd /content/DL-Project/BirdsEyeView_\n",
        "!python3 main.py --source /content/CityUtdR.mp4 --view --save"
      ],
      "metadata": {
        "id": "C1JHosJq7Ww9"
      },
      "execution_count": null,
      "outputs": []
    },
    {
      "cell_type": "code",
      "source": [
        "import subprocess\n",
        "\n",
        "def process_video(inputpath):\n",
        "    command = [\"python3\", \"main.py\", \"--source\", inputpath, \"--view\", \"--save\"]\n",
        "    subprocess.run(command)"
      ],
      "metadata": {
        "id": "8Oz0sa727WoK"
      },
      "execution_count": 26,
      "outputs": []
    },
    {
      "cell_type": "code",
      "source": [
        "input_path = \"/CityUtdR.mp4\""
      ],
      "metadata": {
        "id": "cUR4BZDQCXAN"
      },
      "execution_count": 27,
      "outputs": []
    },
    {
      "cell_type": "code",
      "source": [
        "process_video(input_path)"
      ],
      "metadata": {
        "id": "E41Y8jvu3F9h"
      },
      "execution_count": 28,
      "outputs": []
    },
    {
      "cell_type": "code",
      "source": [],
      "metadata": {
        "id": "SOQykcin3t0E"
      },
      "execution_count": null,
      "outputs": []
    }
  ]
}